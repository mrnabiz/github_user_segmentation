{
 "cells": [
  {
   "cell_type": "code",
   "execution_count": 2,
   "metadata": {},
   "outputs": [],
   "source": [
    "# Import dependencies for ml data processing\n",
    "import pandas as pd\n",
    "\n",
    "from sklearn.compose import make_column_transformer\n",
    "from sklearn.preprocessing import StandardScaler"
   ]
  },
  {
   "cell_type": "code",
   "execution_count": 3,
   "metadata": {},
   "outputs": [],
   "source": [
    "# Read the data and remove the outliers\n",
    "\n",
    "processed_df = pd.read_csv('../data/processed/processed_ml.csv')\n",
    "col_names = processed_df.columns.to_list()\n",
    "col_names.remove('actor_id')\n",
    "\n",
    "for col in col_names:\n",
    "    q1 = processed_df[col].quantile(0.025)\n",
    "    q2 = processed_df[col].quantile(0.975)\n",
    "    non_out_df = processed_df.loc[(processed_df[col] >= q1) &\n",
    "                                  (processed_df[col] <= q2)]"
   ]
  },
  {
   "cell_type": "code",
   "execution_count": 4,
   "metadata": {},
   "outputs": [],
   "source": [
    "# Column transformation and standard scaling\n",
    "\n",
    "drop_features = [\"actor_id\"]\n",
    "numeric_features = list(set(non_out_df.columns) - set(drop_features))\n",
    "preprocessor = make_column_transformer(\n",
    "    (StandardScaler(), numeric_features),\n",
    "    (\"drop\", drop_features)\n",
    "    )\n",
    "transformed_df = pd.DataFrame(\n",
    "    data=preprocessor.fit_transform(non_out_df), columns=numeric_features\n",
    ")\n",
    "transformed_df.columns = transformed_df.columns.str.replace('Event', '')\n",
    "transformed_df.to_csv('../data/processed/transformed_df.csv')"
   ]
  },
  {
   "cell_type": "code",
   "execution_count": null,
   "metadata": {},
   "outputs": [],
   "source": []
  }
 ],
 "metadata": {
  "kernelspec": {
   "display_name": "dsci563",
   "language": "python",
   "name": "python3"
  },
  "language_info": {
   "codemirror_mode": {
    "name": "ipython",
    "version": 3
   },
   "file_extension": ".py",
   "mimetype": "text/x-python",
   "name": "python",
   "nbconvert_exporter": "python",
   "pygments_lexer": "ipython3",
   "version": "3.10.9"
  },
  "orig_nbformat": 4
 },
 "nbformat": 4,
 "nbformat_minor": 2
}
