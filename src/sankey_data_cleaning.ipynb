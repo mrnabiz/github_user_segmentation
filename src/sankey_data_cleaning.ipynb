{
 "cells": [
  {
   "cell_type": "code",
   "execution_count": 1,
   "metadata": {},
   "outputs": [],
   "source": [
    "# Import dependencies for ml data processing\n",
    "import pandas as pd\n",
    "import matplotlib.pyplot as plt\n",
    "import plotly.express as px\n",
    "import plotly.graph_objs as go\n",
    "\n",
    "from sklearn.decomposition import PCA\n",
    "from sklearn.cluster import KMeans\n",
    "\n",
    "plt.rcParams[\"font.size\"] = 16"
   ]
  },
  {
   "cell_type": "code",
   "execution_count": 2,
   "metadata": {},
   "outputs": [],
   "source": [
    "df = pd.read_csv('github_user_segmentation/data/raw/raw_df.csv', index_col=0)\n",
    "df = df.drop(columns='repo_id')\n",
    "df['event_count'] = df.groupby('actor_id')['id'].transform('count')\n",
    "df['type'] = df['type'].str.replace('Event', '')\n",
    "df['type'] = df['type'].str.replace('PullRequest', 'Pull Request')\n",
    "df['type'] = df['type'].str.replace('RequestReview', 'Request Review')\n",
    "df['type'] = df['type'].str.replace('ReviewComment', 'Review Comment')\n",
    "df['type'] = df['type'].str.replace('CommitComment', 'Commit Comment')\n",
    "df['event_count'] = df.groupby('actor_id')['id'].transform('count')\n",
    "filtered_df = df[df['event_count'] > 5]"
   ]
  },
  {
   "cell_type": "code",
   "execution_count": 3,
   "metadata": {},
   "outputs": [],
   "source": [
    "date_string = filtered_df.copy()\n",
    "date_string[['created_at', 'last_name']] = filtered_df['created_at'].str.split('+', n=1, expand=True)\n",
    "date_string = date_string.drop(columns=['event_count', 'last_name'])\n",
    "date_string['created_at'] = pd.to_datetime(date_string['created_at'])"
   ]
  },
  {
   "cell_type": "code",
   "execution_count": 6,
   "metadata": {},
   "outputs": [],
   "source": [
    "starting_step = 'Start'\n",
    "start_events = pd.DataFrame({\n",
    "    'created_at': [pd.Timestamp('2023-03-17 00:00:00')] * date_string['actor_id'].nunique(),\n",
    "    'actor_id': date_string['actor_id'].unique(),\n",
    "    'type': [starting_step] * date_string['actor_id'].nunique(),\n",
    "    'id': date_string['actor_id'].unique() + 100000000000\n",
    "})\n",
    "\n",
    "combined_df = pd.concat([start_events, date_string], ignore_index=True)\n",
    "combined_df = combined_df.sort_values(['actor_id', 'created_at'])\n",
    "combined_df.to_csv('github_user_segmentation/data/processed/combined_sankey.csv')\n",
    "output_file = 'github_user_segmentation/data/processed/combined_sankey.h5'\n",
    "combined_df.to_hdf(output_file, key='data', mode='w')"
   ]
  }
 ],
 "metadata": {
  "kernelspec": {
   "display_name": "dsci532",
   "language": "python",
   "name": "python3"
  },
  "language_info": {
   "codemirror_mode": {
    "name": "ipython",
    "version": 3
   },
   "file_extension": ".py",
   "mimetype": "text/x-python",
   "name": "python",
   "nbconvert_exporter": "python",
   "pygments_lexer": "ipython3",
   "version": "3.11.0"
  },
  "orig_nbformat": 4
 },
 "nbformat": 4,
 "nbformat_minor": 2
}
